{
 "cells": [
  {
   "cell_type": "code",
   "execution_count": 1,
   "metadata": {},
   "outputs": [],
   "source": [
    "# Notebook AndrewSM\n",
    "\n",
    "from pathlib import Path\n",
    "import pandas as pd\n",
    "import numpy as np\n",
    "\n",
    "import os\n",
    "import json\n",
    "from dotenv import load_dotenv\n",
    "from urllib.request import urlopen\n",
    "\n",
    "import matplotlib.pyplot as plt"
   ]
  },
  {
   "cell_type": "code",
   "execution_count": 2,
   "metadata": {},
   "outputs": [
    {
     "data": {
      "text/plain": [
       "True"
      ]
     },
     "execution_count": 2,
     "metadata": {},
     "output_type": "execute_result"
    }
   ],
   "source": [
    "load_dotenv()"
   ]
  },
  {
   "cell_type": "code",
   "execution_count": 3,
   "metadata": {},
   "outputs": [
    {
     "data": {
      "text/plain": [
       "32"
      ]
     },
     "execution_count": 3,
     "metadata": {},
     "output_type": "execute_result"
    }
   ],
   "source": [
    "# Financial Modeling Prep API\n",
    "\n",
    "api_key = os.getenv('financial_modeling_prep_api_key')\n",
    "len(api_key)"
   ]
  },
  {
   "cell_type": "code",
   "execution_count": 4,
   "metadata": {},
   "outputs": [
    {
     "data": {
      "text/plain": [
       "35"
      ]
     },
     "execution_count": 4,
     "metadata": {},
     "output_type": "execute_result"
    }
   ],
   "source": [
    "url = f\"https://financialmodelingprep.com/api/v3/ratios/AAPL?apikey={api_key}\"\n",
    "\n",
    "response = urlopen(url)\n",
    "#help(response)\n",
    "#type(response) --> client\n",
    "\n",
    "data = response.read().decode(\"utf-8\")\n",
    "#type(data)\n",
    "\n",
    "len(json.loads(data))\n",
    "\n",
    "#print(data)"
   ]
  },
  {
   "cell_type": "code",
   "execution_count": 5,
   "metadata": {},
   "outputs": [
    {
     "data": {
      "text/plain": [
       "{'Error Message': 'Invalid API KEY. Please retry or visit our documentation to create one FREE https://financialmodelingprep.com/developer/docs'}"
      ]
     },
     "execution_count": 5,
     "metadata": {},
     "output_type": "execute_result"
    }
   ],
   "source": [
    "url = f\"https://financialmodelingprep.com/api/v3/apikey={api_key}\"\n",
    "\n",
    "response = urlopen(url)\n",
    "#help(response)\n",
    "#type(response) --> client\n",
    "\n",
    "data = response.read().decode(\"utf-8\")\n",
    "#type(data)\n",
    "\n",
    "len(json.loads(data))\n",
    "json.loads(data)"
   ]
  },
  {
   "cell_type": "code",
   "execution_count": 6,
   "metadata": {},
   "outputs": [
    {
     "data": {
      "text/plain": [
       "12265"
      ]
     },
     "execution_count": 6,
     "metadata": {},
     "output_type": "execute_result"
    }
   ],
   "source": [
    "# Obtain quarterly financials statement data for CSX\n",
    "url = f'https://financialmodelingprep.com/api/v3/ratios/CSX?period=quarter&apikey={api_key}'\n",
    "\n",
    "response = urlopen(url)\n",
    "csx_data = response.read().decode(\"utf-8\")\n",
    "\n",
    "len(csx_data)\n",
    "\n",
    "#print(csx_data)"
   ]
  },
  {
   "cell_type": "code",
   "execution_count": 7,
   "metadata": {},
   "outputs": [
    {
     "data": {
      "text/html": [
       "<div>\n",
       "<style scoped>\n",
       "    .dataframe tbody tr th:only-of-type {\n",
       "        vertical-align: middle;\n",
       "    }\n",
       "\n",
       "    .dataframe tbody tr th {\n",
       "        vertical-align: top;\n",
       "    }\n",
       "\n",
       "    .dataframe thead th {\n",
       "        text-align: right;\n",
       "    }\n",
       "</style>\n",
       "<table border=\"1\" class=\"dataframe\">\n",
       "  <thead>\n",
       "    <tr style=\"text-align: right;\">\n",
       "      <th></th>\n",
       "      <th>Close</th>\n",
       "    </tr>\n",
       "    <tr>\n",
       "      <th>Date</th>\n",
       "      <th></th>\n",
       "    </tr>\n",
       "  </thead>\n",
       "  <tbody>\n",
       "    <tr>\n",
       "      <th>1997-05-15 16:00:00</th>\n",
       "      <td>1.96</td>\n",
       "    </tr>\n",
       "    <tr>\n",
       "      <th>1997-05-16 16:00:00</th>\n",
       "      <td>1.73</td>\n",
       "    </tr>\n",
       "    <tr>\n",
       "      <th>1997-05-19 16:00:00</th>\n",
       "      <td>1.71</td>\n",
       "    </tr>\n",
       "    <tr>\n",
       "      <th>1997-05-20 16:00:00</th>\n",
       "      <td>1.64</td>\n",
       "    </tr>\n",
       "    <tr>\n",
       "      <th>1997-05-21 16:00:00</th>\n",
       "      <td>1.43</td>\n",
       "    </tr>\n",
       "  </tbody>\n",
       "</table>\n",
       "</div>"
      ],
      "text/plain": [
       "                     Close\n",
       "Date                      \n",
       "1997-05-15 16:00:00   1.96\n",
       "1997-05-16 16:00:00   1.73\n",
       "1997-05-19 16:00:00   1.71\n",
       "1997-05-20 16:00:00   1.64\n",
       "1997-05-21 16:00:00   1.43"
      ]
     },
     "execution_count": 7,
     "metadata": {},
     "output_type": "execute_result"
    }
   ],
   "source": [
    "# Stock Price data to DataFrames\n",
    "\n",
    "amzn_csv = Path('Resources/stock_price_data/amazon_prices.csv')\n",
    "att_csv = Path('Resources/stock_price_data/at_t_prices.csv')\n",
    "boa_csv = Path('Resources/stock_price_data/boa_prices.csv')\n",
    "coke_csv = Path('Resources/stock_price_data/coca_cola_prices.csv')\n",
    "csx_csv = Path('Resources/stock_price_data/csx_prices.csv')\n",
    "jpm_csv = Path('Resources/stock_price_data/jpmorgan_prices.csv')\n",
    "odfl_csv = Path('Resources/stock_price_data/old_dominion_prices.csv')\n",
    "pg_csv = Path('Resources/stock_price_data/proctor_gamble_prices.csv')\n",
    "tesla_csv = Path('Resources/stock_price_data/tesla_prices.csv')\n",
    "verizon_csv = Path('Resources/stock_price_data/verizon_prices.csv')\n",
    "\n",
    "amzn_prices = pd.read_csv(amzn_csv, parse_dates=True, infer_datetime_format=True, index_col='Date')\n",
    "att_prices = pd.read_csv(att_csv, parse_dates=True, infer_datetime_format=True, index_col='Date')\n",
    "boa_prices = pd.read_csv(boa_csv, parse_dates=True, infer_datetime_format=True, index_col='Date')\n",
    "coke_prices = pd.read_csv(coke_csv, parse_dates=True, infer_datetime_format=True, index_col='Date')\n",
    "csx_prices = pd.read_csv(csx_csv, parse_dates=True, infer_datetime_format=True, index_col='Date')\n",
    "jpm_prices = pd.read_csv(jpm_csv, parse_dates=True, infer_datetime_format=True, index_col='Date')\n",
    "odfl_prices = pd.read_csv(odfl_csv, parse_dates=True, infer_datetime_format=True, index_col='Date')\n",
    "pg_prices = pd.read_csv(pg_csv, parse_dates=True, infer_datetime_format=True, index_col='Date')\n",
    "tesla_prices = pd.read_csv(tesla_csv, parse_dates=True, infer_datetime_format=True, index_col='Date')\n",
    "verizon_prices = pd.read_csv(verizon_csv, parse_dates=True, infer_datetime_format=True, index_col='Date')\n",
    "\n",
    "\n",
    "Path.cwd()\n",
    "#csx_prices.index\n",
    "amzn_prices.head()"
   ]
  },
  {
   "cell_type": "code",
   "execution_count": 8,
   "metadata": {},
   "outputs": [],
   "source": [
    "# Income Statement Data to DataFrames\n",
    "\n",
    "amzn_path = Path('Resources/income_statement_data/amzn_income_statement_quarter.csv')\n",
    "att_path = Path('Resources/income_statement_data/t_income_statement_quarter.csv')\n",
    "boa_path = Path('Resources/income_statement_data/bac_income_statement_annual.csv')\n",
    "coke_path = Path('Resources/income_statement_data/ko_income_statement_quarter.csv')\n",
    "csx_path = Path('Resources/income_statement_data/csx_income_statement_quarter.csv')\n",
    "jpm_path = Path('Resources/income_statement_data/jpm_income_statement_quarter.csv')\n",
    "odfl_path = Path('Resources/income_statement_data/odfl_income_statement_quarter.csv')\n",
    "pg_path = Path('Resources/income_statement_data/pg_income_statement_quarter.csv')\n",
    "tesla_path = Path('Resources/income_statement_data/tsla_income_statement_quarter.csv')\n",
    "verizon_path = Path('Resources/income_statement_data/vz_income_statement_quarter.csv')\n",
    "\n",
    "amzn_inc_stmnt = pd.read_csv(amzn_path, parse_dates=True, infer_datetime_format=True, index_col='date')\n",
    "att_inc_stmnt = pd.read_csv(att_path, parse_dates=True, infer_datetime_format=True, index_col='date')\n",
    "boa_inc_stmnt = pd.read_csv(boa_path, parse_dates=True, infer_datetime_format=True, index_col='date')\n",
    "coke_inc_stmnt = pd.read_csv(coke_path, parse_dates=True, infer_datetime_format=True, index_col='date')\n",
    "csx_inc_stmnt = pd.read_csv(csx_path, parse_dates=True, infer_datetime_format=True, index_col='date')\n",
    "jpm_inc_stmnt = pd.read_csv(jpm_path, parse_dates=True, infer_datetime_format=True, index_col='date')\n",
    "odfl_inc_stmnt = pd.read_csv(odfl_path, parse_dates=True, infer_datetime_format=True, index_col='date')\n",
    "pg_inc_stmnt = pd.read_csv(pg_path, parse_dates=True, infer_datetime_format=True, index_col='date')\n",
    "tesla_inc_stmnt = pd.read_csv(tesla_path, parse_dates=True, infer_datetime_format=True, index_col='date')\n",
    "vz_inc_stmnt = pd.read_csv(verizon_path, parse_dates=True, infer_datetime_format=True, index_col='date')\n",
    "\n"
   ]
  },
  {
   "cell_type": "code",
   "execution_count": 9,
   "metadata": {},
   "outputs": [
    {
     "data": {
      "text/plain": [
       "\"Index(['2020-06-30_Q2', '2020-03-31_Q1', '2019-12-31_Q4', '2019-09-30_Q3',\\n       '2019-06-30_Q2', '2019-03-31_Q1', '2018-12-31_Q4', '2018-09-30_Q3',\\n       '2018-06-30_Q2', '2018-03-31_Q1',\\n       ...\\n       '1991-09-30_Q3', '1991-06-30_Q2', '1991-03-31_Q1', '1990-12-31_Q4',\\n       '1990-09-30_Q3', '1990-06-30_Q2', '1990-03-31_Q1', '1989-12-31_Q4',\\n       '1989-09-30_Q3', '1989-06-30_Q2'],\\n      dtype='object', name='date', length=125)\""
      ]
     },
     "execution_count": 9,
     "metadata": {},
     "output_type": "execute_result"
    }
   ],
   "source": [
    "test = str(csx_inc_stmnt.index)\n",
    "test"
   ]
  },
  {
   "cell_type": "code",
   "execution_count": 10,
   "metadata": {},
   "outputs": [],
   "source": [
    "# Convert index to datetime\n",
    "\n",
    "amzn_prices.index = pd.to_datetime(amzn_prices.index)\n",
    "att_prices.index = pd.to_datetime(att_prices.index)\n",
    "boa_prices.index = pd.to_datetime(boa_prices.index)\n",
    "coke_prices.index = pd.to_datetime(coke_prices.index)\n",
    "csx_prices.index = pd.to_datetime(csx_prices.index)\n",
    "jpm_prices.index = pd.to_datetime(jpm_prices.index)\n",
    "odfl_prices.index = pd.to_datetime(odfl_prices.index)\n",
    "pg_prices.index = pd.to_datetime(pg_prices.index)\n",
    "tesla_prices.index = pd.to_datetime(tesla_prices.index)\n",
    "verizon_prices.index = pd.to_datetime(verizon_prices.index)\n",
    "\n",
    "\n",
    "\n"
   ]
  },
  {
   "cell_type": "code",
   "execution_count": 11,
   "metadata": {},
   "outputs": [
    {
     "data": {
      "text/html": [
       "<div>\n",
       "<style scoped>\n",
       "    .dataframe tbody tr th:only-of-type {\n",
       "        vertical-align: middle;\n",
       "    }\n",
       "\n",
       "    .dataframe tbody tr th {\n",
       "        vertical-align: top;\n",
       "    }\n",
       "\n",
       "    .dataframe thead th {\n",
       "        text-align: right;\n",
       "    }\n",
       "</style>\n",
       "<table border=\"1\" class=\"dataframe\">\n",
       "  <thead>\n",
       "    <tr style=\"text-align: right;\">\n",
       "      <th></th>\n",
       "      <th>Close</th>\n",
       "    </tr>\n",
       "    <tr>\n",
       "      <th>Date</th>\n",
       "      <th></th>\n",
       "    </tr>\n",
       "  </thead>\n",
       "  <tbody>\n",
       "    <tr>\n",
       "      <th>1997-05-15 16:00:00</th>\n",
       "      <td>1.96</td>\n",
       "    </tr>\n",
       "    <tr>\n",
       "      <th>1997-05-16 16:00:00</th>\n",
       "      <td>1.73</td>\n",
       "    </tr>\n",
       "    <tr>\n",
       "      <th>1997-05-19 16:00:00</th>\n",
       "      <td>1.71</td>\n",
       "    </tr>\n",
       "    <tr>\n",
       "      <th>1997-05-20 16:00:00</th>\n",
       "      <td>1.64</td>\n",
       "    </tr>\n",
       "    <tr>\n",
       "      <th>1997-05-21 16:00:00</th>\n",
       "      <td>1.43</td>\n",
       "    </tr>\n",
       "  </tbody>\n",
       "</table>\n",
       "</div>"
      ],
      "text/plain": [
       "                     Close\n",
       "Date                      \n",
       "1997-05-15 16:00:00   1.96\n",
       "1997-05-16 16:00:00   1.73\n",
       "1997-05-19 16:00:00   1.71\n",
       "1997-05-20 16:00:00   1.64\n",
       "1997-05-21 16:00:00   1.43"
      ]
     },
     "execution_count": 11,
     "metadata": {},
     "output_type": "execute_result"
    }
   ],
   "source": [
    "csx_prices.head()\n",
    "amzn_prices.loc['1997'].head()"
   ]
  },
  {
   "cell_type": "code",
   "execution_count": 12,
   "metadata": {},
   "outputs": [],
   "source": [
    "# LSTM Libraries\n",
    "\n",
    "from numpy import array\n",
    "from tensorflow.keras.models import Sequential\n",
    "from tensorflow.keras.layers import LSTM, Dense, Dropout\n"
   ]
  },
  {
   "cell_type": "code",
   "execution_count": 13,
   "metadata": {},
   "outputs": [],
   "source": [
    "# univariate data prep\n",
    "\n",
    "def split_sequence(stock_prices, n_steps):\n",
    "    \n",
    "    X, y = list(), list()\n",
    "    \n",
    "    for i in range(len(stock_prices)):\n",
    "        \n",
    "        end = i + n_steps\n",
    "        \n",
    "        if end > len(stock_prices)-1:\n",
    "            \n",
    "            break\n",
    "            \n",
    "        seq_x, seq_y = stock_prices[i:end], stock_prices[end]\n",
    "        \n",
    "        X.append(seq_x)\n",
    "        y.append(seq_y)\n",
    "        \n",
    "    return array(X), array(y)"
   ]
  },
  {
   "cell_type": "code",
   "execution_count": 14,
   "metadata": {},
   "outputs": [
    {
     "name": "stdout",
     "output_type": "stream",
     "text": [
      "[7.91 7.88 7.84] 7.76\n"
     ]
    }
   ],
   "source": [
    "# Set data variables\n",
    "\n",
    "n_steps = 3\n",
    "n_features = 1\n",
    "\n",
    "X, y = split_sequence(verizon_prices['Close'], n_steps)\n",
    "\n",
    "print(X[0], y[0])"
   ]
  },
  {
   "cell_type": "code",
   "execution_count": 15,
   "metadata": {},
   "outputs": [
    {
     "name": "stdout",
     "output_type": "stream",
     "text": [
      "[[[ 7.91]\n",
      "  [ 7.88]\n",
      "  [ 7.84]]\n",
      "\n",
      " [[ 7.88]\n",
      "  [ 7.84]\n",
      "  [ 7.76]]\n",
      "\n",
      " [[ 7.84]\n",
      "  [ 7.76]\n",
      "  [ 7.54]]\n",
      "\n",
      " ...\n",
      "\n",
      " [[59.82]\n",
      "  [58.91]\n",
      "  [59.19]]\n",
      "\n",
      " [[58.91]\n",
      "  [59.19]\n",
      "  [59.39]]\n",
      "\n",
      " [[59.19]\n",
      "  [59.39]\n",
      "  [59.36]]]\n"
     ]
    }
   ],
   "source": [
    "# Reshape data\n",
    "\n",
    "X = X.reshape((X.shape[0], X.shape[1], n_features))\n",
    "\n",
    "print(X)"
   ]
  },
  {
   "cell_type": "code",
   "execution_count": 16,
   "metadata": {},
   "outputs": [],
   "source": [
    "# Build vanilla LSTM\n",
    "\n",
    "model = Sequential()\n",
    "\n",
    "model.add(LSTM(50, activation='relu', input_shape=(n_steps, n_features)))\n",
    "\n",
    "model.add(Dense(1))\n",
    "\n",
    "model.compile(optimizer='adam', loss='mse', metrics=[\"accuracy\"])"
   ]
  },
  {
   "cell_type": "code",
   "execution_count": 17,
   "metadata": {},
   "outputs": [
    {
     "name": "stdout",
     "output_type": "stream",
     "text": [
      "Epoch 1/20\n",
      "290/290 [==============================] - 1s 2ms/step - loss: 86.9062 - accuracy: 0.0000e+00\n",
      "Epoch 2/20\n",
      "290/290 [==============================] - 1s 2ms/step - loss: 0.6676 - accuracy: 0.0000e+00\n",
      "Epoch 3/20\n",
      "290/290 [==============================] - 1s 2ms/step - loss: 0.6107 - accuracy: 0.0000e+00\n",
      "Epoch 4/20\n",
      "290/290 [==============================] - 1s 2ms/step - loss: 0.5604 - accuracy: 0.0000e+00\n",
      "Epoch 5/20\n",
      "290/290 [==============================] - 1s 3ms/step - loss: 0.5222 - accuracy: 0.0000e+00\n",
      "Epoch 6/20\n",
      "290/290 [==============================] - 1s 2ms/step - loss: 0.5004 - accuracy: 0.0000e+00\n",
      "Epoch 7/20\n",
      "290/290 [==============================] - 1s 2ms/step - loss: 0.4724 - accuracy: 0.0000e+00: 0s - loss: 0.4615 - accura\n",
      "Epoch 8/20\n",
      "290/290 [==============================] - 1s 2ms/step - loss: 0.4505 - accuracy: 0.0000e+00\n",
      "Epoch 9/20\n",
      "290/290 [==============================] - 1s 2ms/step - loss: 0.4414 - accuracy: 0.0000e+00\n",
      "Epoch 10/20\n",
      "290/290 [==============================] - 1s 2ms/step - loss: 0.4303 - accuracy: 0.0000e+00\n",
      "Epoch 11/20\n",
      "290/290 [==============================] - 1s 2ms/step - loss: 0.4079 - accuracy: 0.0000e+00\n",
      "Epoch 12/20\n",
      "290/290 [==============================] - 1s 2ms/step - loss: 0.4044 - accuracy: 0.0000e+00\n",
      "Epoch 13/20\n",
      "290/290 [==============================] - 1s 2ms/step - loss: 0.3865 - accuracy: 0.0000e+00\n",
      "Epoch 14/20\n",
      "290/290 [==============================] - 1s 2ms/step - loss: 0.3901 - accuracy: 0.0000e+00\n",
      "Epoch 15/20\n",
      "290/290 [==============================] - 1s 2ms/step - loss: 0.3668 - accuracy: 0.0000e+00\n",
      "Epoch 16/20\n",
      "290/290 [==============================] - 1s 2ms/step - loss: 0.3796 - accuracy: 0.0000e+00\n",
      "Epoch 17/20\n",
      "290/290 [==============================] - 1s 2ms/step - loss: 0.3750 - accuracy: 0.0000e+00\n",
      "Epoch 18/20\n",
      "290/290 [==============================] - 1s 2ms/step - loss: 0.3607 - accuracy: 0.0000e+00\n",
      "Epoch 19/20\n",
      "290/290 [==============================] - 1s 2ms/step - loss: 0.3496 - accuracy: 0.0000e+00\n",
      "Epoch 20/20\n",
      "290/290 [==============================] - 1s 2ms/step - loss: 0.3605 - accuracy: 0.0000e+00\n"
     ]
    }
   ],
   "source": [
    "model_attributes = model.fit(X, y, epochs=20, verbose=1)"
   ]
  },
  {
   "cell_type": "code",
   "execution_count": 18,
   "metadata": {},
   "outputs": [
    {
     "name": "stdout",
     "output_type": "stream",
     "text": [
      "Model: \"sequential\"\n",
      "_________________________________________________________________\n",
      "Layer (type)                 Output Shape              Param #   \n",
      "=================================================================\n",
      "lstm (LSTM)                  (None, 50)                10400     \n",
      "_________________________________________________________________\n",
      "dense (Dense)                (None, 1)                 51        \n",
      "=================================================================\n",
      "Total params: 10,451\n",
      "Trainable params: 10,451\n",
      "Non-trainable params: 0\n",
      "_________________________________________________________________\n"
     ]
    }
   ],
   "source": [
    "model.summary()"
   ]
  },
  {
   "cell_type": "code",
   "execution_count": 19,
   "metadata": {},
   "outputs": [],
   "source": [
    "prediction = model.predict(array(X))\n"
   ]
  },
  {
   "cell_type": "code",
   "execution_count": 20,
   "metadata": {},
   "outputs": [
    {
     "data": {
      "text/plain": [
       "array([[ 7.9494257],\n",
       "       [ 7.8971195],\n",
       "       [ 7.7767634],\n",
       "       ...,\n",
       "       [58.600674 ],\n",
       "       [58.71772  ],\n",
       "       [58.75912  ]], dtype=float32)"
      ]
     },
     "execution_count": 20,
     "metadata": {},
     "output_type": "execute_result"
    }
   ],
   "source": [
    "prediction"
   ]
  },
  {
   "cell_type": "code",
   "execution_count": 21,
   "metadata": {},
   "outputs": [
    {
     "name": "stdout",
     "output_type": "stream",
     "text": [
      "5854 9277\n"
     ]
    }
   ],
   "source": [
    "print(len(amzn_prices[:-30]), len(prediction))"
   ]
  },
  {
   "cell_type": "code",
   "execution_count": 22,
   "metadata": {},
   "outputs": [
    {
     "data": {
      "text/html": [
       "<div>\n",
       "<style scoped>\n",
       "    .dataframe tbody tr th:only-of-type {\n",
       "        vertical-align: middle;\n",
       "    }\n",
       "\n",
       "    .dataframe tbody tr th {\n",
       "        vertical-align: top;\n",
       "    }\n",
       "\n",
       "    .dataframe thead th {\n",
       "        text-align: right;\n",
       "    }\n",
       "</style>\n",
       "<table border=\"1\" class=\"dataframe\">\n",
       "  <thead>\n",
       "    <tr style=\"text-align: right;\">\n",
       "      <th></th>\n",
       "      <th>Real</th>\n",
       "      <th>Predicted</th>\n",
       "    </tr>\n",
       "    <tr>\n",
       "      <th>Date</th>\n",
       "      <th></th>\n",
       "      <th></th>\n",
       "    </tr>\n",
       "  </thead>\n",
       "  <tbody>\n",
       "    <tr>\n",
       "      <th>2020-09-23 16:00:00</th>\n",
       "      <td>58.91</td>\n",
       "      <td>59.217480</td>\n",
       "    </tr>\n",
       "    <tr>\n",
       "      <th>2020-09-24 16:00:00</th>\n",
       "      <td>59.19</td>\n",
       "      <td>58.547779</td>\n",
       "    </tr>\n",
       "    <tr>\n",
       "      <th>2020-09-25 16:00:00</th>\n",
       "      <td>59.39</td>\n",
       "      <td>58.600674</td>\n",
       "    </tr>\n",
       "    <tr>\n",
       "      <th>2020-09-28 16:00:00</th>\n",
       "      <td>59.36</td>\n",
       "      <td>58.717720</td>\n",
       "    </tr>\n",
       "    <tr>\n",
       "      <th>2020-09-29 16:00:00</th>\n",
       "      <td>59.24</td>\n",
       "      <td>58.759121</td>\n",
       "    </tr>\n",
       "  </tbody>\n",
       "</table>\n",
       "</div>"
      ],
      "text/plain": [
       "                      Real  Predicted\n",
       "Date                                 \n",
       "2020-09-23 16:00:00  58.91  59.217480\n",
       "2020-09-24 16:00:00  59.19  58.547779\n",
       "2020-09-25 16:00:00  59.39  58.600674\n",
       "2020-09-28 16:00:00  59.36  58.717720\n",
       "2020-09-29 16:00:00  59.24  58.759121"
      ]
     },
     "execution_count": 22,
     "metadata": {},
     "output_type": "execute_result"
    }
   ],
   "source": [
    "# Plot\n",
    "\n",
    "%matplotlib inline\n",
    "\n",
    "# Create a DataFrame of Real and Predicted values\n",
    "stocks = pd.DataFrame({\n",
    "    \"Real\": np.array(verizon_prices).ravel()[3:],\n",
    "    \"Predicted\": np.array(prediction).ravel()\n",
    "}, index = verizon_prices.index[3:]) \n",
    "stocks.tail()"
   ]
  },
  {
   "cell_type": "code",
   "execution_count": 23,
   "metadata": {},
   "outputs": [
    {
     "data": {
      "text/plain": [
       "<matplotlib.axes._subplots.AxesSubplot at 0x7f944abd2590>"
      ]
     },
     "execution_count": 23,
     "metadata": {},
     "output_type": "execute_result"
    },
    {
     "data": {
      "image/png": "[encoded data removed]",
      "text/plain": [
       "<Figure size 432x288 with 1 Axes>"
      ]
     },
     "metadata": {
      "needs_background": "light"
     },
     "output_type": "display_data"
    }
   ],
   "source": [
    "stocks.loc['2020'].plot(title='VZ')"
   ]
  },
  {
   "cell_type": "code",
   "execution_count": 24,
   "metadata": {},
   "outputs": [],
   "source": [
    "#plt.plot(model.history['accuracy'])"
   ]
  },
  {
   "cell_type": "code",
   "execution_count": 25,
   "metadata": {},
   "outputs": [],
   "source": [
    "\n",
    "#df_plot = pd.DataFrame(model.history, index=range(1, len(model.history['loss'])+1)) \n",
    "\n",
    "# Plot the loss\n",
    "#df_plot.plot(y='loss')"
   ]
  },
  {
   "cell_type": "code",
   "execution_count": 26,
   "metadata": {},
   "outputs": [],
   "source": [
    "# Plot the accuracy\n",
    "#df_plot.plot(y='accuracy')"
   ]
  },
  {
   "cell_type": "code",
   "execution_count": 27,
   "metadata": {},
   "outputs": [],
   "source": [
    "# Evaluate the model fit with linear dummy data\n",
    "#model_loss, model_accuracy = model.evaluate(X, y)\n",
    "\n",
    "#print(f\"Model loss: {model_loss}, Model Accuracy: {model_accuracy}\")\n",
    "\n"
   ]
  },
  {
   "cell_type": "code",
   "execution_count": 28,
   "metadata": {},
   "outputs": [],
   "source": [
    "#model_attributes = model.fit(X, y, epochs=20, verbose=1)"
   ]
  },
  {
   "cell_type": "code",
   "execution_count": 34,
   "metadata": {},
   "outputs": [
    {
     "ename": "ValueError",
     "evalue": "Shape of passed values is (20, 2), indices imply (19, 2)",
     "output_type": "error",
     "traceback": [
      "\u001b[0;31m---------------------------------------------------------------------------\u001b[0m",
      "\u001b[0;31mValueError\u001b[0m                                Traceback (most recent call last)",
      "\u001b[0;32m/opt/anaconda3/envs/dev/lib/python3.7/site-packages/pandas/core/internals/managers.py\u001b[0m in \u001b[0;36mcreate_block_manager_from_arrays\u001b[0;34m(arrays, names, axes)\u001b[0m\n\u001b[1;32m   1666\u001b[0m         \u001b[0mblocks\u001b[0m \u001b[0;34m=\u001b[0m \u001b[0mform_blocks\u001b[0m\u001b[0;34m(\u001b[0m\u001b[0marrays\u001b[0m\u001b[0;34m,\u001b[0m \u001b[0mnames\u001b[0m\u001b[0;34m,\u001b[0m \u001b[0maxes\u001b[0m\u001b[0;34m)\u001b[0m\u001b[0;34m\u001b[0m\u001b[0;34m\u001b[0m\u001b[0m\n\u001b[0;32m-> 1667\u001b[0;31m         \u001b[0mmgr\u001b[0m \u001b[0;34m=\u001b[0m \u001b[0mBlockManager\u001b[0m\u001b[0;34m(\u001b[0m\u001b[0mblocks\u001b[0m\u001b[0;34m,\u001b[0m \u001b[0maxes\u001b[0m\u001b[0;34m)\u001b[0m\u001b[0;34m\u001b[0m\u001b[0;34m\u001b[0m\u001b[0m\n\u001b[0m\u001b[1;32m   1668\u001b[0m         \u001b[0mmgr\u001b[0m\u001b[0;34m.\u001b[0m\u001b[0m_consolidate_inplace\u001b[0m\u001b[0;34m(\u001b[0m\u001b[0;34m)\u001b[0m\u001b[0;34m\u001b[0m\u001b[0;34m\u001b[0m\u001b[0m\n",
      "\u001b[0;32m/opt/anaconda3/envs/dev/lib/python3.7/site-packages/pandas/core/internals/managers.py\u001b[0m in \u001b[0;36m__init__\u001b[0;34m(self, blocks, axes, do_integrity_check)\u001b[0m\n\u001b[1;32m    113\u001b[0m         \u001b[0;32mif\u001b[0m \u001b[0mdo_integrity_check\u001b[0m\u001b[0;34m:\u001b[0m\u001b[0;34m\u001b[0m\u001b[0;34m\u001b[0m\u001b[0m\n\u001b[0;32m--> 114\u001b[0;31m             \u001b[0mself\u001b[0m\u001b[0;34m.\u001b[0m\u001b[0m_verify_integrity\u001b[0m\u001b[0;34m(\u001b[0m\u001b[0;34m)\u001b[0m\u001b[0;34m\u001b[0m\u001b[0;34m\u001b[0m\u001b[0m\n\u001b[0m\u001b[1;32m    115\u001b[0m \u001b[0;34m\u001b[0m\u001b[0m\n",
      "\u001b[0;32m/opt/anaconda3/envs/dev/lib/python3.7/site-packages/pandas/core/internals/managers.py\u001b[0m in \u001b[0;36m_verify_integrity\u001b[0;34m(self)\u001b[0m\n\u001b[1;32m    310\u001b[0m             \u001b[0;32mif\u001b[0m \u001b[0mblock\u001b[0m\u001b[0;34m.\u001b[0m\u001b[0m_verify_integrity\u001b[0m \u001b[0;32mand\u001b[0m \u001b[0mblock\u001b[0m\u001b[0;34m.\u001b[0m\u001b[0mshape\u001b[0m\u001b[0;34m[\u001b[0m\u001b[0;36m1\u001b[0m\u001b[0;34m:\u001b[0m\u001b[0;34m]\u001b[0m \u001b[0;34m!=\u001b[0m \u001b[0mmgr_shape\u001b[0m\u001b[0;34m[\u001b[0m\u001b[0;36m1\u001b[0m\u001b[0;34m:\u001b[0m\u001b[0;34m]\u001b[0m\u001b[0;34m:\u001b[0m\u001b[0;34m\u001b[0m\u001b[0;34m\u001b[0m\u001b[0m\n\u001b[0;32m--> 311\u001b[0;31m                 \u001b[0mconstruction_error\u001b[0m\u001b[0;34m(\u001b[0m\u001b[0mtot_items\u001b[0m\u001b[0;34m,\u001b[0m \u001b[0mblock\u001b[0m\u001b[0;34m.\u001b[0m\u001b[0mshape\u001b[0m\u001b[0;34m[\u001b[0m\u001b[0;36m1\u001b[0m\u001b[0;34m:\u001b[0m\u001b[0;34m]\u001b[0m\u001b[0;34m,\u001b[0m \u001b[0mself\u001b[0m\u001b[0;34m.\u001b[0m\u001b[0maxes\u001b[0m\u001b[0;34m)\u001b[0m\u001b[0;34m\u001b[0m\u001b[0;34m\u001b[0m\u001b[0m\n\u001b[0m\u001b[1;32m    312\u001b[0m         \u001b[0;32mif\u001b[0m \u001b[0mlen\u001b[0m\u001b[0;34m(\u001b[0m\u001b[0mself\u001b[0m\u001b[0;34m.\u001b[0m\u001b[0mitems\u001b[0m\u001b[0;34m)\u001b[0m \u001b[0;34m!=\u001b[0m \u001b[0mtot_items\u001b[0m\u001b[0;34m:\u001b[0m\u001b[0;34m\u001b[0m\u001b[0;34m\u001b[0m\u001b[0m\n",
      "\u001b[0;32m/opt/anaconda3/envs/dev/lib/python3.7/site-packages/pandas/core/internals/managers.py\u001b[0m in \u001b[0;36mconstruction_error\u001b[0;34m(tot_items, block_shape, axes, e)\u001b[0m\n\u001b[1;32m   1690\u001b[0m     raise ValueError(\"Shape of passed values is {0}, indices imply {1}\".format(\n\u001b[0;32m-> 1691\u001b[0;31m         passed, implied))\n\u001b[0m\u001b[1;32m   1692\u001b[0m \u001b[0;34m\u001b[0m\u001b[0m\n",
      "\u001b[0;31mValueError\u001b[0m: Shape of passed values is (20, 2), indices imply (19, 2)",
      "\nDuring handling of the above exception, another exception occurred:\n",
      "\u001b[0;31mValueError\u001b[0m                                Traceback (most recent call last)",
      "\u001b[0;32m<ipython-input-34-2ec44e53a9cc>\u001b[0m in \u001b[0;36m<module>\u001b[0;34m\u001b[0m\n\u001b[1;32m      1\u001b[0m \u001b[0;31m# Create a DataFrame with the history dictionary\u001b[0m\u001b[0;34m\u001b[0m\u001b[0;34m\u001b[0m\u001b[0;34m\u001b[0m\u001b[0m\n\u001b[0;32m----> 2\u001b[0;31m \u001b[0mdf_plot\u001b[0m \u001b[0;34m=\u001b[0m \u001b[0mpd\u001b[0m\u001b[0;34m.\u001b[0m\u001b[0mDataFrame\u001b[0m\u001b[0;34m(\u001b[0m\u001b[0mmodel_attributes\u001b[0m\u001b[0;34m.\u001b[0m\u001b[0mhistory\u001b[0m\u001b[0;34m,\u001b[0m \u001b[0mindex\u001b[0m\u001b[0;34m=\u001b[0m\u001b[0mrange\u001b[0m\u001b[0;34m(\u001b[0m\u001b[0;36m1\u001b[0m\u001b[0;34m,\u001b[0m \u001b[0mlen\u001b[0m\u001b[0;34m(\u001b[0m\u001b[0mmodel_attributes\u001b[0m\u001b[0;34m.\u001b[0m\u001b[0mhistory\u001b[0m\u001b[0;34m[\u001b[0m\u001b[0;34m'loss'\u001b[0m\u001b[0;34m]\u001b[0m\u001b[0;34m)\u001b[0m\u001b[0;34m)\u001b[0m\u001b[0;34m)\u001b[0m\u001b[0;34m\u001b[0m\u001b[0;34m\u001b[0m\u001b[0m\n\u001b[0m\u001b[1;32m      3\u001b[0m \u001b[0;34m\u001b[0m\u001b[0m\n\u001b[1;32m      4\u001b[0m \u001b[0;31m# Plot the loss\u001b[0m\u001b[0;34m\u001b[0m\u001b[0;34m\u001b[0m\u001b[0;34m\u001b[0m\u001b[0m\n\u001b[1;32m      5\u001b[0m \u001b[0mdf_plot\u001b[0m\u001b[0;34m.\u001b[0m\u001b[0mplot\u001b[0m\u001b[0;34m(\u001b[0m\u001b[0my\u001b[0m\u001b[0;34m=\u001b[0m\u001b[0;34m'loss'\u001b[0m\u001b[0;34m,\u001b[0m \u001b[0mtitle\u001b[0m\u001b[0;34m=\u001b[0m\u001b[0;34m'VZ Loss'\u001b[0m\u001b[0;34m)\u001b[0m\u001b[0;34m\u001b[0m\u001b[0;34m\u001b[0m\u001b[0m\n",
      "\u001b[0;32m/opt/anaconda3/envs/dev/lib/python3.7/site-packages/pandas/core/frame.py\u001b[0m in \u001b[0;36m__init__\u001b[0;34m(self, data, index, columns, dtype, copy)\u001b[0m\n\u001b[1;32m    390\u001b[0m                                  dtype=dtype, copy=copy)\n\u001b[1;32m    391\u001b[0m         \u001b[0;32melif\u001b[0m \u001b[0misinstance\u001b[0m\u001b[0;34m(\u001b[0m\u001b[0mdata\u001b[0m\u001b[0;34m,\u001b[0m \u001b[0mdict\u001b[0m\u001b[0;34m)\u001b[0m\u001b[0;34m:\u001b[0m\u001b[0;34m\u001b[0m\u001b[0;34m\u001b[0m\u001b[0m\n\u001b[0;32m--> 392\u001b[0;31m             \u001b[0mmgr\u001b[0m \u001b[0;34m=\u001b[0m \u001b[0minit_dict\u001b[0m\u001b[0;34m(\u001b[0m\u001b[0mdata\u001b[0m\u001b[0;34m,\u001b[0m \u001b[0mindex\u001b[0m\u001b[0;34m,\u001b[0m \u001b[0mcolumns\u001b[0m\u001b[0;34m,\u001b[0m \u001b[0mdtype\u001b[0m\u001b[0;34m=\u001b[0m\u001b[0mdtype\u001b[0m\u001b[0;34m)\u001b[0m\u001b[0;34m\u001b[0m\u001b[0;34m\u001b[0m\u001b[0m\n\u001b[0m\u001b[1;32m    393\u001b[0m         \u001b[0;32melif\u001b[0m \u001b[0misinstance\u001b[0m\u001b[0;34m(\u001b[0m\u001b[0mdata\u001b[0m\u001b[0;34m,\u001b[0m \u001b[0mma\u001b[0m\u001b[0;34m.\u001b[0m\u001b[0mMaskedArray\u001b[0m\u001b[0;34m)\u001b[0m\u001b[0;34m:\u001b[0m\u001b[0;34m\u001b[0m\u001b[0;34m\u001b[0m\u001b[0m\n\u001b[1;32m    394\u001b[0m             \u001b[0;32mimport\u001b[0m \u001b[0mnumpy\u001b[0m\u001b[0;34m.\u001b[0m\u001b[0mma\u001b[0m\u001b[0;34m.\u001b[0m\u001b[0mmrecords\u001b[0m \u001b[0;32mas\u001b[0m \u001b[0mmrecords\u001b[0m\u001b[0;34m\u001b[0m\u001b[0;34m\u001b[0m\u001b[0m\n",
      "\u001b[0;32m/opt/anaconda3/envs/dev/lib/python3.7/site-packages/pandas/core/internals/construction.py\u001b[0m in \u001b[0;36minit_dict\u001b[0;34m(data, index, columns, dtype)\u001b[0m\n\u001b[1;32m    210\u001b[0m         \u001b[0marrays\u001b[0m \u001b[0;34m=\u001b[0m \u001b[0;34m[\u001b[0m\u001b[0mdata\u001b[0m\u001b[0;34m[\u001b[0m\u001b[0mk\u001b[0m\u001b[0;34m]\u001b[0m \u001b[0;32mfor\u001b[0m \u001b[0mk\u001b[0m \u001b[0;32min\u001b[0m \u001b[0mkeys\u001b[0m\u001b[0;34m]\u001b[0m\u001b[0;34m\u001b[0m\u001b[0;34m\u001b[0m\u001b[0m\n\u001b[1;32m    211\u001b[0m \u001b[0;34m\u001b[0m\u001b[0m\n\u001b[0;32m--> 212\u001b[0;31m     \u001b[0;32mreturn\u001b[0m \u001b[0marrays_to_mgr\u001b[0m\u001b[0;34m(\u001b[0m\u001b[0marrays\u001b[0m\u001b[0;34m,\u001b[0m \u001b[0mdata_names\u001b[0m\u001b[0;34m,\u001b[0m \u001b[0mindex\u001b[0m\u001b[0;34m,\u001b[0m \u001b[0mcolumns\u001b[0m\u001b[0;34m,\u001b[0m \u001b[0mdtype\u001b[0m\u001b[0;34m=\u001b[0m\u001b[0mdtype\u001b[0m\u001b[0;34m)\u001b[0m\u001b[0;34m\u001b[0m\u001b[0;34m\u001b[0m\u001b[0m\n\u001b[0m\u001b[1;32m    213\u001b[0m \u001b[0;34m\u001b[0m\u001b[0m\n\u001b[1;32m    214\u001b[0m \u001b[0;34m\u001b[0m\u001b[0m\n",
      "\u001b[0;32m/opt/anaconda3/envs/dev/lib/python3.7/site-packages/pandas/core/internals/construction.py\u001b[0m in \u001b[0;36marrays_to_mgr\u001b[0;34m(arrays, arr_names, index, columns, dtype)\u001b[0m\n\u001b[1;32m     59\u001b[0m     \u001b[0maxes\u001b[0m \u001b[0;34m=\u001b[0m \u001b[0;34m[\u001b[0m\u001b[0mensure_index\u001b[0m\u001b[0;34m(\u001b[0m\u001b[0mcolumns\u001b[0m\u001b[0;34m)\u001b[0m\u001b[0;34m,\u001b[0m \u001b[0mindex\u001b[0m\u001b[0;34m]\u001b[0m\u001b[0;34m\u001b[0m\u001b[0;34m\u001b[0m\u001b[0m\n\u001b[1;32m     60\u001b[0m \u001b[0;34m\u001b[0m\u001b[0m\n\u001b[0;32m---> 61\u001b[0;31m     \u001b[0;32mreturn\u001b[0m \u001b[0mcreate_block_manager_from_arrays\u001b[0m\u001b[0;34m(\u001b[0m\u001b[0marrays\u001b[0m\u001b[0;34m,\u001b[0m \u001b[0marr_names\u001b[0m\u001b[0;34m,\u001b[0m \u001b[0maxes\u001b[0m\u001b[0;34m)\u001b[0m\u001b[0;34m\u001b[0m\u001b[0;34m\u001b[0m\u001b[0m\n\u001b[0m\u001b[1;32m     62\u001b[0m \u001b[0;34m\u001b[0m\u001b[0m\n\u001b[1;32m     63\u001b[0m \u001b[0;34m\u001b[0m\u001b[0m\n",
      "\u001b[0;32m/opt/anaconda3/envs/dev/lib/python3.7/site-packages/pandas/core/internals/managers.py\u001b[0m in \u001b[0;36mcreate_block_manager_from_arrays\u001b[0;34m(arrays, names, axes)\u001b[0m\n\u001b[1;32m   1669\u001b[0m         \u001b[0;32mreturn\u001b[0m \u001b[0mmgr\u001b[0m\u001b[0;34m\u001b[0m\u001b[0;34m\u001b[0m\u001b[0m\n\u001b[1;32m   1670\u001b[0m     \u001b[0;32mexcept\u001b[0m \u001b[0mValueError\u001b[0m \u001b[0;32mas\u001b[0m \u001b[0me\u001b[0m\u001b[0;34m:\u001b[0m\u001b[0;34m\u001b[0m\u001b[0;34m\u001b[0m\u001b[0m\n\u001b[0;32m-> 1671\u001b[0;31m         \u001b[0mconstruction_error\u001b[0m\u001b[0;34m(\u001b[0m\u001b[0mlen\u001b[0m\u001b[0;34m(\u001b[0m\u001b[0marrays\u001b[0m\u001b[0;34m)\u001b[0m\u001b[0;34m,\u001b[0m \u001b[0marrays\u001b[0m\u001b[0;34m[\u001b[0m\u001b[0;36m0\u001b[0m\u001b[0;34m]\u001b[0m\u001b[0;34m.\u001b[0m\u001b[0mshape\u001b[0m\u001b[0;34m,\u001b[0m \u001b[0maxes\u001b[0m\u001b[0;34m,\u001b[0m \u001b[0me\u001b[0m\u001b[0;34m)\u001b[0m\u001b[0;34m\u001b[0m\u001b[0;34m\u001b[0m\u001b[0m\n\u001b[0m\u001b[1;32m   1672\u001b[0m \u001b[0;34m\u001b[0m\u001b[0m\n\u001b[1;32m   1673\u001b[0m \u001b[0;34m\u001b[0m\u001b[0m\n",
      "\u001b[0;32m/opt/anaconda3/envs/dev/lib/python3.7/site-packages/pandas/core/internals/managers.py\u001b[0m in \u001b[0;36mconstruction_error\u001b[0;34m(tot_items, block_shape, axes, e)\u001b[0m\n\u001b[1;32m   1689\u001b[0m         \u001b[0;32mraise\u001b[0m \u001b[0mValueError\u001b[0m\u001b[0;34m(\u001b[0m\u001b[0;34m\"Empty data passed with indices specified.\"\u001b[0m\u001b[0;34m)\u001b[0m\u001b[0;34m\u001b[0m\u001b[0;34m\u001b[0m\u001b[0m\n\u001b[1;32m   1690\u001b[0m     raise ValueError(\"Shape of passed values is {0}, indices imply {1}\".format(\n\u001b[0;32m-> 1691\u001b[0;31m         passed, implied))\n\u001b[0m\u001b[1;32m   1692\u001b[0m \u001b[0;34m\u001b[0m\u001b[0m\n\u001b[1;32m   1693\u001b[0m \u001b[0;34m\u001b[0m\u001b[0m\n",
      "\u001b[0;31mValueError\u001b[0m: Shape of passed values is (20, 2), indices imply (19, 2)"
     ]
    }
   ],
   "source": [
    "# Create a DataFrame with the history dictionary\n",
    "df_plot = pd.DataFrame(model_attributes.history, index=range(1, len(model_attributes.history['loss'])+1)) \n",
    "\n",
    "# Plot the loss\n",
    "df_plot.plot(y='loss', title='VZ Loss')"
   ]
  },
  {
   "cell_type": "code",
   "execution_count": 30,
   "metadata": {},
   "outputs": [
    {
     "data": {
      "text/html": [
       "<div>\n",
       "<style scoped>\n",
       "    .dataframe tbody tr th:only-of-type {\n",
       "        vertical-align: middle;\n",
       "    }\n",
       "\n",
       "    .dataframe tbody tr th {\n",
       "        vertical-align: top;\n",
       "    }\n",
       "\n",
       "    .dataframe thead th {\n",
       "        text-align: right;\n",
       "    }\n",
       "</style>\n",
       "<table border=\"1\" class=\"dataframe\">\n",
       "  <thead>\n",
       "    <tr style=\"text-align: right;\">\n",
       "      <th></th>\n",
       "      <th>loss</th>\n",
       "      <th>accuracy</th>\n",
       "    </tr>\n",
       "  </thead>\n",
       "  <tbody>\n",
       "    <tr>\n",
       "      <th>1</th>\n",
       "      <td>86.906250</td>\n",
       "      <td>0.0</td>\n",
       "    </tr>\n",
       "    <tr>\n",
       "      <th>2</th>\n",
       "      <td>0.667622</td>\n",
       "      <td>0.0</td>\n",
       "    </tr>\n",
       "    <tr>\n",
       "      <th>3</th>\n",
       "      <td>0.610716</td>\n",
       "      <td>0.0</td>\n",
       "    </tr>\n",
       "    <tr>\n",
       "      <th>4</th>\n",
       "      <td>0.560387</td>\n",
       "      <td>0.0</td>\n",
       "    </tr>\n",
       "    <tr>\n",
       "      <th>5</th>\n",
       "      <td>0.522159</td>\n",
       "      <td>0.0</td>\n",
       "    </tr>\n",
       "  </tbody>\n",
       "</table>\n",
       "</div>"
      ],
      "text/plain": [
       "        loss  accuracy\n",
       "1  86.906250       0.0\n",
       "2   0.667622       0.0\n",
       "3   0.610716       0.0\n",
       "4   0.560387       0.0\n",
       "5   0.522159       0.0"
      ]
     },
     "execution_count": 30,
     "metadata": {},
     "output_type": "execute_result"
    },
    {
     "data": {
      "image/png": "[encoded data removed]",
      "text/plain": [
       "<Figure size 432x288 with 1 Axes>"
      ]
     },
     "metadata": {
      "needs_background": "light"
     },
     "output_type": "display_data"
    }
   ],
   "source": [
    "# Plot the accuracy\n",
    "\n",
    "df_plot.plot(y='accuracy')\n",
    "\n",
    "df_plot.head()"
   ]
  },
  {
   "cell_type": "code",
   "execution_count": 31,
   "metadata": {},
   "outputs": [
    {
     "data": {
      "text/plain": [
       "<tensorflow.python.keras.callbacks.History at 0x7f944ac30fd0>"
      ]
     },
     "execution_count": 31,
     "metadata": {},
     "output_type": "execute_result"
    }
   ],
   "source": [
    "model.history"
   ]
  },
  {
   "cell_type": "code",
   "execution_count": null,
   "metadata": {},
   "outputs": [],
   "source": []
  }
 ],
 "metadata": {
  "kernelspec": {
   "display_name": "Python 3",
   "language": "python",
   "name": "python3"
  },
  "language_info": {
   "codemirror_mode": {
    "name": "ipython",
    "version": 3
   },
   "file_extension": ".py",
   "mimetype": "text/x-python",
   "name": "python",
   "nbconvert_exporter": "python",
   "pygments_lexer": "ipython3",
   "version": "3.7.7"
  }
 },
 "nbformat": 4,
 "nbformat_minor": 4
}
