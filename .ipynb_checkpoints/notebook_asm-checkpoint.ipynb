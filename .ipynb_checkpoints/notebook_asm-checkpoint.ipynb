{
 "cells": [
  {
   "cell_type": "code",
   "execution_count": 1,
   "metadata": {},
   "outputs": [],
   "source": [
    "# Notebook AndrewSM\n",
    "\n",
    "from pathlib import Path\n",
    "import pandas as pd\n",
    "import numpy as np\n",
    "\n",
    "import os\n",
    "import json\n",
    "from dotenv import load_dotenv\n",
    "from urllib.request import urlopen"
   ]
  },
  {
   "cell_type": "code",
   "execution_count": 2,
   "metadata": {},
   "outputs": [
    {
     "data": {
      "text/plain": [
       "True"
      ]
     },
     "execution_count": 2,
     "metadata": {},
     "output_type": "execute_result"
    }
   ],
   "source": [
    "load_dotenv()"
   ]
  },
  {
   "cell_type": "code",
   "execution_count": 3,
   "metadata": {},
   "outputs": [
    {
     "data": {
      "text/plain": [
       "32"
      ]
     },
     "execution_count": 3,
     "metadata": {},
     "output_type": "execute_result"
    }
   ],
   "source": [
    "# Financial Modeling Prep API\n",
    "\n",
    "api_key = os.getenv('financial_modeling_prep_api_key')\n",
    "len(api_key)"
   ]
  },
  {
   "cell_type": "code",
   "execution_count": 4,
   "metadata": {},
   "outputs": [
    {
     "data": {
      "text/plain": [
       "35"
      ]
     },
     "execution_count": 4,
     "metadata": {},
     "output_type": "execute_result"
    }
   ],
   "source": [
    "url = f\"https://financialmodelingprep.com/api/v3/ratios/AAPL?apikey={api_key}\"\n",
    "\n",
    "response = urlopen(url)\n",
    "#help(response)\n",
    "#type(response) --> client\n",
    "\n",
    "data = response.read().decode(\"utf-8\")\n",
    "#type(data)\n",
    "\n",
    "len(json.loads(data))\n",
    "\n",
    "#print(data)"
   ]
  },
  {
   "cell_type": "code",
   "execution_count": 5,
   "metadata": {},
   "outputs": [
    {
     "data": {
      "text/plain": [
       "{'Error Message': 'Invalid API KEY. Please retry or visit our documentation to create one FREE https://financialmodelingprep.com/developer/docs'}"
      ]
     },
     "execution_count": 5,
     "metadata": {},
     "output_type": "execute_result"
    }
   ],
   "source": [
    "url = f\"https://financialmodelingprep.com/api/v3/apikey={api_key}\"\n",
    "\n",
    "response = urlopen(url)\n",
    "#help(response)\n",
    "#type(response) --> client\n",
    "\n",
    "data = response.read().decode(\"utf-8\")\n",
    "#type(data)\n",
    "\n",
    "len(json.loads(data))\n",
    "json.loads(data)"
   ]
  },
  {
   "cell_type": "code",
   "execution_count": 6,
   "metadata": {},
   "outputs": [
    {
     "data": {
      "text/plain": [
       "310969"
      ]
     },
     "execution_count": 6,
     "metadata": {},
     "output_type": "execute_result"
    }
   ],
   "source": [
    "# Obtain quarterly financials statement data for CSX\n",
    "url = f'https://financialmodelingprep.com/api/v3/ratios/CSX?period=quarter&apikey={api_key}'\n",
    "\n",
    "response = urlopen(url)\n",
    "csx_data = response.read().decode(\"utf-8\")\n",
    "\n",
    "len(csx_data)\n",
    "\n",
    "#print(csx_data)"
   ]
  },
  {
   "cell_type": "code",
   "execution_count": 7,
   "metadata": {},
   "outputs": [
    {
     "data": {
      "text/html": [
       "<div>\n",
       "<style scoped>\n",
       "    .dataframe tbody tr th:only-of-type {\n",
       "        vertical-align: middle;\n",
       "    }\n",
       "\n",
       "    .dataframe tbody tr th {\n",
       "        vertical-align: top;\n",
       "    }\n",
       "\n",
       "    .dataframe thead th {\n",
       "        text-align: right;\n",
       "    }\n",
       "</style>\n",
       "<table border=\"1\" class=\"dataframe\">\n",
       "  <thead>\n",
       "    <tr style=\"text-align: right;\">\n",
       "      <th></th>\n",
       "      <th>Close</th>\n",
       "    </tr>\n",
       "    <tr>\n",
       "      <th>Date</th>\n",
       "      <th></th>\n",
       "    </tr>\n",
       "  </thead>\n",
       "  <tbody>\n",
       "    <tr>\n",
       "      <th>1997-05-15 16:00:00</th>\n",
       "      <td>1.96</td>\n",
       "    </tr>\n",
       "    <tr>\n",
       "      <th>1997-05-16 16:00:00</th>\n",
       "      <td>1.73</td>\n",
       "    </tr>\n",
       "    <tr>\n",
       "      <th>1997-05-19 16:00:00</th>\n",
       "      <td>1.71</td>\n",
       "    </tr>\n",
       "    <tr>\n",
       "      <th>1997-05-20 16:00:00</th>\n",
       "      <td>1.64</td>\n",
       "    </tr>\n",
       "    <tr>\n",
       "      <th>1997-05-21 16:00:00</th>\n",
       "      <td>1.43</td>\n",
       "    </tr>\n",
       "  </tbody>\n",
       "</table>\n",
       "</div>"
      ],
      "text/plain": [
       "                     Close\n",
       "Date                      \n",
       "1997-05-15 16:00:00   1.96\n",
       "1997-05-16 16:00:00   1.73\n",
       "1997-05-19 16:00:00   1.71\n",
       "1997-05-20 16:00:00   1.64\n",
       "1997-05-21 16:00:00   1.43"
      ]
     },
     "execution_count": 7,
     "metadata": {},
     "output_type": "execute_result"
    }
   ],
   "source": [
    "# Stock Price data to DataFrames\n",
    "\n",
    "amzn_csv = Path('Resources/stock_price_data/amazon_prices.csv')\n",
    "att_csv = Path('Resources/stock_price_data/at_t_prices.csv')\n",
    "boa_csv = Path('Resources/stock_price_data/boa_prices.csv')\n",
    "coke_csv = Path('Resources/stock_price_data/coca_cola_prices.csv')\n",
    "csx_csv = Path('Resources/stock_price_data/csx_prices.csv')\n",
    "jpm_csv = Path('Resources/stock_price_data/jpmorgan_prices.csv')\n",
    "odfl_csv = Path('Resources/stock_price_data/old_dominion_prices.csv')\n",
    "pg_csv = Path('Resources/stock_price_data/proctor_gamble_prices.csv')\n",
    "tesla_csv = Path('Resources/stock_price_data/tesla_prices.csv')\n",
    "verizon_csv = Path('Resources/stock_price_data/verizon_prices.csv')\n",
    "\n",
    "amzn_prices = pd.read_csv(amzn_csv, parse_dates=True, infer_datetime_format=True, index_col='Date')\n",
    "att_prices = pd.read_csv(att_csv, parse_dates=True, infer_datetime_format=True, index_col='Date')\n",
    "boa_prices = pd.read_csv(boa_csv, parse_dates=True, infer_datetime_format=True, index_col='Date')\n",
    "coke_prices = pd.read_csv(coke_csv, parse_dates=True, infer_datetime_format=True, index_col='Date')\n",
    "csx_prices = pd.read_csv(csx_csv, parse_dates=True, infer_datetime_format=True, index_col='Date')\n",
    "jpm_prices = pd.read_csv(jpm_csv, parse_dates=True, infer_datetime_format=True, index_col='Date')\n",
    "odfl_prices = pd.read_csv(odfl_csv, parse_dates=True, infer_datetime_format=True, index_col='Date')\n",
    "pg_prices = pd.read_csv(pg_csv, parse_dates=True, infer_datetime_format=True, index_col='Date')\n",
    "tesla_prices = pd.read_csv(tesla_csv, parse_dates=True, infer_datetime_format=True, index_col='Date')\n",
    "verizon_prices = pd.read_csv(verizon_csv, parse_dates=True, infer_datetime_format=True, index_col='Date')\n",
    "\n",
    "\n",
    "Path.cwd()\n",
    "#csx_prices.index\n",
    "amzn_prices.head()"
   ]
  },
  {
   "cell_type": "code",
   "execution_count": 8,
   "metadata": {},
   "outputs": [],
   "source": [
    "# Income Statement Data to DataFrames\n",
    "\n",
    "amzn_path = Path('Resources/income_statement_data/amzn_income_statement_quarter.csv')\n",
    "att_path = Path('Resources/income_statement_data/t_income_statement_quarter.csv')\n",
    "boa_path = Path('Resources/income_statement_data/bac_income_statement_annual.csv')\n",
    "coke_path = Path('Resources/income_statement_data/ko_income_statement_quarter.csv')\n",
    "csx_path = Path('Resources/income_statement_data/csx_income_statement_quarter.csv')\n",
    "jpm_path = Path('Resources/income_statement_data/jpm_income_statement_quarter.csv')\n",
    "odfl_path = Path('Resources/income_statement_data/odfl_income_statement_quarter.csv')\n",
    "pg_path = Path('Resources/income_statement_data/pg_income_statement_quarter.csv')\n",
    "tesla_path = Path('Resources/income_statement_data/tsla_income_statement_quarter.csv')\n",
    "verizon_path = Path('Resources/income_statement_data/vz_income_statement_quarter.csv')\n",
    "\n",
    "amzn_inc_stmnt = pd.read_csv(amzn_path, parse_dates=True, infer_datetime_format=True, index_col='date')\n",
    "att_inc_stmnt = pd.read_csv(att_path, parse_dates=True, infer_datetime_format=True, index_col='date')\n",
    "boa_inc_stmnt = pd.read_csv(boa_path, parse_dates=True, infer_datetime_format=True, index_col='date')\n",
    "coke_inc_stmnt = pd.read_csv(coke_path, parse_dates=True, infer_datetime_format=True, index_col='date')\n",
    "csx_inc_stmnt = pd.read_csv(csx_path, parse_dates=True, infer_datetime_format=True, index_col='date')\n",
    "jpm_inc_stmnt = pd.read_csv(jpm_path, parse_dates=True, infer_datetime_format=True, index_col='date')\n",
    "odfl_inc_stmnt = pd.read_csv(odfl_path, parse_dates=True, infer_datetime_format=True, index_col='date')\n",
    "pg_inc_stmnt = pd.read_csv(pg_path, parse_dates=True, infer_datetime_format=True, index_col='date')\n",
    "tesla_inc_stmnt = pd.read_csv(tesla_path, parse_dates=True, infer_datetime_format=True, index_col='date')\n",
    "vz_inc_stmnt = pd.read_csv(verizon_path, parse_dates=True, infer_datetime_format=True, index_col='date')\n",
    "\n"
   ]
  },
  {
   "cell_type": "code",
   "execution_count": 9,
   "metadata": {},
   "outputs": [
    {
     "data": {
      "text/plain": [
       "\"Index(['2020-06-30_Q2', '2020-03-31_Q1', '2019-12-31_Q4', '2019-09-30_Q3',\\n       '2019-06-30_Q2', '2019-03-31_Q1', '2018-12-31_Q4', '2018-09-30_Q3',\\n       '2018-06-30_Q2', '2018-03-31_Q1',\\n       ...\\n       '1991-09-30_Q3', '1991-06-30_Q2', '1991-03-31_Q1', '1990-12-31_Q4',\\n       '1990-09-30_Q3', '1990-06-30_Q2', '1990-03-31_Q1', '1989-12-31_Q4',\\n       '1989-09-30_Q3', '1989-06-30_Q2'],\\n      dtype='object', name='date', length=125)\""
      ]
     },
     "execution_count": 9,
     "metadata": {},
     "output_type": "execute_result"
    }
   ],
   "source": [
    "test = str(csx_inc_stmnt.index)\n",
    "test"
   ]
  },
  {
   "cell_type": "code",
   "execution_count": 10,
   "metadata": {},
   "outputs": [],
   "source": [
    "# Convert index to datetime\n",
    "\n",
    "amzn_prices.index = pd.to_datetime(amzn_prices.index)\n",
    "att_prices.index = pd.to_datetime(att_prices.index)\n",
    "boa_prices.index = pd.to_datetime(boa_prices.index)\n",
    "coke_prices.index = pd.to_datetime(coke_prices.index)\n",
    "csx_prices.index = pd.to_datetime(csx_prices.index)\n",
    "jpm_prices.index = pd.to_datetime(jpm_prices.index)\n",
    "odfl_prices.index = pd.to_datetime(odfl_prices.index)\n",
    "pg_prices.index = pd.to_datetime(pg_prices.index)\n",
    "tesla_prices.index = pd.to_datetime(tesla_prices.index)\n",
    "verizon_prices.index = pd.to_datetime(verizon_prices.index)\n",
    "\n",
    "\n",
    "\n"
   ]
  },
  {
   "cell_type": "code",
   "execution_count": 14,
   "metadata": {},
   "outputs": [
    {
     "data": {
      "text/html": [
       "<div>\n",
       "<style scoped>\n",
       "    .dataframe tbody tr th:only-of-type {\n",
       "        vertical-align: middle;\n",
       "    }\n",
       "\n",
       "    .dataframe tbody tr th {\n",
       "        vertical-align: top;\n",
       "    }\n",
       "\n",
       "    .dataframe thead th {\n",
       "        text-align: right;\n",
       "    }\n",
       "</style>\n",
       "<table border=\"1\" class=\"dataframe\">\n",
       "  <thead>\n",
       "    <tr style=\"text-align: right;\">\n",
       "      <th></th>\n",
       "      <th>Close</th>\n",
       "    </tr>\n",
       "    <tr>\n",
       "      <th>Date</th>\n",
       "      <th></th>\n",
       "    </tr>\n",
       "  </thead>\n",
       "  <tbody>\n",
       "    <tr>\n",
       "      <th>1997-05-15 16:00:00</th>\n",
       "      <td>1.96</td>\n",
       "    </tr>\n",
       "    <tr>\n",
       "      <th>1997-05-16 16:00:00</th>\n",
       "      <td>1.73</td>\n",
       "    </tr>\n",
       "    <tr>\n",
       "      <th>1997-05-19 16:00:00</th>\n",
       "      <td>1.71</td>\n",
       "    </tr>\n",
       "    <tr>\n",
       "      <th>1997-05-20 16:00:00</th>\n",
       "      <td>1.64</td>\n",
       "    </tr>\n",
       "    <tr>\n",
       "      <th>1997-05-21 16:00:00</th>\n",
       "      <td>1.43</td>\n",
       "    </tr>\n",
       "  </tbody>\n",
       "</table>\n",
       "</div>"
      ],
      "text/plain": [
       "                     Close\n",
       "Date                      \n",
       "1997-05-15 16:00:00   1.96\n",
       "1997-05-16 16:00:00   1.73\n",
       "1997-05-19 16:00:00   1.71\n",
       "1997-05-20 16:00:00   1.64\n",
       "1997-05-21 16:00:00   1.43"
      ]
     },
     "execution_count": 14,
     "metadata": {},
     "output_type": "execute_result"
    }
   ],
   "source": [
    "csx_prices.head()\n",
    "amzn_prices.loc['1997'].head()"
   ]
  },
  {
   "cell_type": "code",
   "execution_count": 17,
   "metadata": {},
   "outputs": [],
   "source": [
    "# LSTM Libraries\n",
    "\n",
    "from numpy import array\n",
    "from tensorflow.keras.models import Sequential\n",
    "from tensorflow.keras.layers import LSTM, Dense, Dropout\n"
   ]
  },
  {
   "cell_type": "code",
   "execution_count": 19,
   "metadata": {},
   "outputs": [],
   "source": [
    "# univariate data prep\n",
    "\n",
    "def split_sequence(stock_prices, n_steps):\n",
    "    \n",
    "    X, y = list(), list()\n",
    "    \n",
    "    for i in range(len(stock_prices)):\n",
    "        \n",
    "        end = i + n_steps\n",
    "        \n",
    "        if end > len(stock_prices)-1:\n",
    "            \n",
    "            break\n",
    "            \n",
    "        seq_x, seq_y = stock_prices[i:end], stock_prices[end]\n",
    "        \n",
    "        X.append(seq_x)\n",
    "        y.append(seq_y)\n",
    "        \n",
    "    return array(X), array(y)"
   ]
  },
  {
   "cell_type": "code",
   "execution_count": 116,
   "metadata": {},
   "outputs": [
    {
     "name": "stdout",
     "output_type": "stream",
     "text": [
      "[1.96 1.73 1.71] 1.64\n"
     ]
    }
   ],
   "source": [
    "# Set data variables\n",
    "\n",
    "n_steps = 3\n",
    "n_features = 1\n",
    "\n",
    "X, y = split_sequence(amzn_prices['Close'], n_steps)\n",
    "\n",
    "print(X[0], y[0])"
   ]
  },
  {
   "cell_type": "code",
   "execution_count": 117,
   "metadata": {},
   "outputs": [
    {
     "name": "stdout",
     "output_type": "stream",
     "text": [
      "[[[1.96000e+00]\n",
      "  [1.73000e+00]\n",
      "  [1.71000e+00]]\n",
      "\n",
      " [[1.73000e+00]\n",
      "  [1.71000e+00]\n",
      "  [1.64000e+00]]\n",
      "\n",
      " [[1.71000e+00]\n",
      "  [1.64000e+00]\n",
      "  [1.43000e+00]]\n",
      "\n",
      " ...\n",
      "\n",
      " [[3.12899e+03]\n",
      "  [2.99986e+03]\n",
      "  [3.01979e+03]]\n",
      "\n",
      " [[2.99986e+03]\n",
      "  [3.01979e+03]\n",
      "  [3.09513e+03]]\n",
      "\n",
      " [[3.01979e+03]\n",
      "  [3.09513e+03]\n",
      "  [3.17405e+03]]]\n"
     ]
    }
   ],
   "source": [
    "# Reshape data\n",
    "\n",
    "X = X.reshape((X.shape[0], X.shape[1], n_features))\n",
    "\n",
    "print(X)"
   ]
  },
  {
   "cell_type": "code",
   "execution_count": 118,
   "metadata": {},
   "outputs": [],
   "source": [
    "# Build vanilla LSTM\n",
    "\n",
    "model = Sequential()\n",
    "\n",
    "model.add(LSTM(50, activation='relu', input_shape=(n_steps, n_features)))\n",
    "\n",
    "model.add(Dense(1))\n",
    "\n",
    "model.compile(optimizer='adam', loss='mse')"
   ]
  },
  {
   "cell_type": "code",
   "execution_count": 119,
   "metadata": {},
   "outputs": [
    {
     "name": "stdout",
     "output_type": "stream",
     "text": [
      "Epoch 1/20\n",
      "184/184 [==============================] - 0s 2ms/step - loss: 146755.4219\n",
      "Epoch 2/20\n",
      "184/184 [==============================] - 0s 2ms/step - loss: 378.9655\n",
      "Epoch 3/20\n",
      "184/184 [==============================] - 0s 2ms/step - loss: 365.8778\n",
      "Epoch 4/20\n",
      "184/184 [==============================] - 0s 2ms/step - loss: 363.7754\n",
      "Epoch 5/20\n",
      "184/184 [==============================] - 0s 2ms/step - loss: 362.8724\n",
      "Epoch 6/20\n",
      "184/184 [==============================] - 0s 2ms/step - loss: 361.9578\n",
      "Epoch 7/20\n",
      "184/184 [==============================] - 0s 2ms/step - loss: 360.5048\n",
      "Epoch 8/20\n",
      "184/184 [==============================] - 0s 2ms/step - loss: 371.8457\n",
      "Epoch 9/20\n",
      "184/184 [==============================] - 0s 2ms/step - loss: 363.5018\n",
      "Epoch 10/20\n",
      "184/184 [==============================] - 0s 2ms/step - loss: 360.3667\n",
      "Epoch 11/20\n",
      "184/184 [==============================] - 0s 2ms/step - loss: 375.2277\n",
      "Epoch 12/20\n",
      "184/184 [==============================] - 0s 2ms/step - loss: 486.8056\n",
      "Epoch 13/20\n",
      "184/184 [==============================] - 0s 2ms/step - loss: 393.9499\n",
      "Epoch 14/20\n",
      "184/184 [==============================] - 0s 2ms/step - loss: 384.4200\n",
      "Epoch 15/20\n",
      "184/184 [==============================] - 0s 2ms/step - loss: 381.8819\n",
      "Epoch 16/20\n",
      "184/184 [==============================] - 0s 2ms/step - loss: 409.9160\n",
      "Epoch 17/20\n",
      "184/184 [==============================] - 0s 2ms/step - loss: 373.9523\n",
      "Epoch 18/20\n",
      "184/184 [==============================] - 0s 2ms/step - loss: 385.7348\n",
      "Epoch 19/20\n",
      "184/184 [==============================] - 0s 2ms/step - loss: 420.8981\n",
      "Epoch 20/20\n",
      "184/184 [==============================] - 0s 2ms/step - loss: 393.2491\n"
     ]
    },
    {
     "data": {
      "text/plain": [
       "<tensorflow.python.keras.callbacks.History at 0x7fbaabf83310>"
      ]
     },
     "execution_count": 119,
     "metadata": {},
     "output_type": "execute_result"
    }
   ],
   "source": [
    "model.fit(X, y, epochs=20, verbose=1)"
   ]
  },
  {
   "cell_type": "code",
   "execution_count": 120,
   "metadata": {},
   "outputs": [
    {
     "name": "stdout",
     "output_type": "stream",
     "text": [
      "Model: \"sequential_12\"\n",
      "_________________________________________________________________\n",
      "Layer (type)                 Output Shape              Param #   \n",
      "=================================================================\n",
      "lstm_10 (LSTM)               (None, 50)                10400     \n",
      "_________________________________________________________________\n",
      "dense_10 (Dense)             (None, 1)                 51        \n",
      "=================================================================\n",
      "Total params: 10,451\n",
      "Trainable params: 10,451\n",
      "Non-trainable params: 0\n",
      "_________________________________________________________________\n"
     ]
    }
   ],
   "source": [
    "model.summary()"
   ]
  },
  {
   "cell_type": "code",
   "execution_count": 121,
   "metadata": {},
   "outputs": [],
   "source": [
    "prediction = model.predict(array(X))\n"
   ]
  },
  {
   "cell_type": "code",
   "execution_count": 122,
   "metadata": {},
   "outputs": [
    {
     "data": {
      "text/plain": [
       "array([[1.5391302e+00],\n",
       "       [1.4471935e+00],\n",
       "       [1.3789275e+00],\n",
       "       ...,\n",
       "       [3.0070183e+03],\n",
       "       [3.0004133e+03],\n",
       "       [3.0602273e+03]], dtype=float32)"
      ]
     },
     "execution_count": 122,
     "metadata": {},
     "output_type": "execute_result"
    }
   ],
   "source": [
    "prediction"
   ]
  },
  {
   "cell_type": "code",
   "execution_count": 123,
   "metadata": {},
   "outputs": [
    {
     "name": "stdout",
     "output_type": "stream",
     "text": [
      "5854 5881\n"
     ]
    }
   ],
   "source": [
    "print(len(amzn_prices[:-30]), len(prediction))"
   ]
  },
  {
   "cell_type": "code",
   "execution_count": 125,
   "metadata": {},
   "outputs": [
    {
     "data": {
      "text/html": [
       "<div>\n",
       "<style scoped>\n",
       "    .dataframe tbody tr th:only-of-type {\n",
       "        vertical-align: middle;\n",
       "    }\n",
       "\n",
       "    .dataframe tbody tr th {\n",
       "        vertical-align: top;\n",
       "    }\n",
       "\n",
       "    .dataframe thead th {\n",
       "        text-align: right;\n",
       "    }\n",
       "</style>\n",
       "<table border=\"1\" class=\"dataframe\">\n",
       "  <thead>\n",
       "    <tr style=\"text-align: right;\">\n",
       "      <th></th>\n",
       "      <th>Real</th>\n",
       "      <th>Predicted</th>\n",
       "    </tr>\n",
       "    <tr>\n",
       "      <th>Date</th>\n",
       "      <th></th>\n",
       "      <th></th>\n",
       "    </tr>\n",
       "  </thead>\n",
       "  <tbody>\n",
       "    <tr>\n",
       "      <th>2020-09-23 16:00:00</th>\n",
       "      <td>2999.86</td>\n",
       "      <td>2972.451904</td>\n",
       "    </tr>\n",
       "    <tr>\n",
       "      <th>2020-09-24 16:00:00</th>\n",
       "      <td>3019.79</td>\n",
       "      <td>3007.976807</td>\n",
       "    </tr>\n",
       "    <tr>\n",
       "      <th>2020-09-25 16:00:00</th>\n",
       "      <td>3095.13</td>\n",
       "      <td>3007.018311</td>\n",
       "    </tr>\n",
       "    <tr>\n",
       "      <th>2020-09-28 16:00:00</th>\n",
       "      <td>3174.05</td>\n",
       "      <td>3000.413330</td>\n",
       "    </tr>\n",
       "    <tr>\n",
       "      <th>2020-09-29 16:00:00</th>\n",
       "      <td>3144.88</td>\n",
       "      <td>3060.227295</td>\n",
       "    </tr>\n",
       "  </tbody>\n",
       "</table>\n",
       "</div>"
      ],
      "text/plain": [
       "                        Real    Predicted\n",
       "Date                                     \n",
       "2020-09-23 16:00:00  2999.86  2972.451904\n",
       "2020-09-24 16:00:00  3019.79  3007.976807\n",
       "2020-09-25 16:00:00  3095.13  3007.018311\n",
       "2020-09-28 16:00:00  3174.05  3000.413330\n",
       "2020-09-29 16:00:00  3144.88  3060.227295"
      ]
     },
     "execution_count": 125,
     "metadata": {},
     "output_type": "execute_result"
    }
   ],
   "source": [
    "# Plot\n",
    "\n",
    "%matplotlib inline\n",
    "\n",
    "# Create a DataFrame of Real and Predicted values\n",
    "stocks = pd.DataFrame({\n",
    "    \"Real\": np.array(amzn_prices).ravel()[3:],\n",
    "    \"Predicted\": np.array(prediction).ravel()\n",
    "}, index = amzn_prices.index[3:]) \n",
    "stocks.tail()"
   ]
  },
  {
   "cell_type": "code",
   "execution_count": 131,
   "metadata": {},
   "outputs": [
    {
     "data": {
      "text/plain": [
       "<matplotlib.axes._subplots.AxesSubplot at 0x7fbab9f7e690>"
      ]
     },
     "execution_count": 131,
     "metadata": {},
     "output_type": "execute_result"
    },
    {
     "data": {
      "image/png": "[encoded data removed]",
      "text/plain": [
       "<Figure size 432x288 with 1 Axes>"
      ]
     },
     "metadata": {
      "needs_background": "light"
     },
     "output_type": "display_data"
    }
   ],
   "source": [
    "stocks.loc['2020'].plot()"
   ]
  },
  {
   "cell_type": "code",
   "execution_count": null,
   "metadata": {},
   "outputs": [],
   "source": []
  }
 ],
 "metadata": {
  "kernelspec": {
   "display_name": "Python 3",
   "language": "python",
   "name": "python3"
  },
  "language_info": {
   "codemirror_mode": {
    "name": "ipython",
    "version": 3
   },
   "file_extension": ".py",
   "mimetype": "text/x-python",
   "name": "python",
   "nbconvert_exporter": "python",
   "pygments_lexer": "ipython3",
   "version": "3.7.7"
  }
 },
 "nbformat": 4,
 "nbformat_minor": 4
}
