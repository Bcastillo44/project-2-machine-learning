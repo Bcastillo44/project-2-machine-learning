{
 "cells": [
  {
   "cell_type": "code",
   "execution_count": 1,
   "metadata": {},
   "outputs": [],
   "source": [
    "from pathlib import Path\n",
    "import pandas as pd\n",
    "import numpy as np\n",
    "\n",
    "import os\n",
    "import json\n",
    "from dotenv import load_dotenv\n",
    "from urllib.request import urlopen\n",
    "\n",
    "%matplotlib inline\n",
    "\n",
    "from statsmodels.graphics.tsaplots import plot_acf, plot_pacf\n",
    "from statsmodels.tsa.arima_model import ARIMA"
   ]
  },
  {
   "cell_type": "code",
   "execution_count": 2,
   "metadata": {},
   "outputs": [
    {
     "data": {
      "text/html": [
       "<div>\n",
       "<style scoped>\n",
       "    .dataframe tbody tr th:only-of-type {\n",
       "        vertical-align: middle;\n",
       "    }\n",
       "\n",
       "    .dataframe tbody tr th {\n",
       "        vertical-align: top;\n",
       "    }\n",
       "\n",
       "    .dataframe thead th {\n",
       "        text-align: right;\n",
       "    }\n",
       "</style>\n",
       "<table border=\"1\" class=\"dataframe\">\n",
       "  <thead>\n",
       "    <tr style=\"text-align: right;\">\n",
       "      <th></th>\n",
       "      <th>Close</th>\n",
       "    </tr>\n",
       "    <tr>\n",
       "      <th>Date</th>\n",
       "      <th></th>\n",
       "    </tr>\n",
       "  </thead>\n",
       "  <tbody>\n",
       "    <tr>\n",
       "      <th>1997-05-15 16:00:00</th>\n",
       "      <td>1.96</td>\n",
       "    </tr>\n",
       "    <tr>\n",
       "      <th>1997-05-16 16:00:00</th>\n",
       "      <td>1.73</td>\n",
       "    </tr>\n",
       "    <tr>\n",
       "      <th>1997-05-19 16:00:00</th>\n",
       "      <td>1.71</td>\n",
       "    </tr>\n",
       "    <tr>\n",
       "      <th>1997-05-20 16:00:00</th>\n",
       "      <td>1.64</td>\n",
       "    </tr>\n",
       "    <tr>\n",
       "      <th>1997-05-21 16:00:00</th>\n",
       "      <td>1.43</td>\n",
       "    </tr>\n",
       "  </tbody>\n",
       "</table>\n",
       "</div>"
      ],
      "text/plain": [
       "                     Close\n",
       "Date                      \n",
       "1997-05-15 16:00:00   1.96\n",
       "1997-05-16 16:00:00   1.73\n",
       "1997-05-19 16:00:00   1.71\n",
       "1997-05-20 16:00:00   1.64\n",
       "1997-05-21 16:00:00   1.43"
      ]
     },
     "execution_count": 2,
     "metadata": {},
     "output_type": "execute_result"
    }
   ],
   "source": [
    "# Stock Price data to DataFrames\n",
    "\n",
    "amzn_csv = Path('Resources/stock_price_data/amazon_prices.csv')\n",
    "att_csv = Path('Resources/stock_price_data/at_t_prices.csv')\n",
    "boa_csv = Path('Resources/stock_price_data/boa_prices.csv')\n",
    "coke_csv = Path('Resources/stock_price_data/coca_cola_prices.csv')\n",
    "csx_csv = Path('Resources/stock_price_data/csx_prices.csv')\n",
    "jpm_csv = Path('Resources/stock_price_data/jpmorgan_prices.csv')\n",
    "odfl_csv = Path('Resources/stock_price_data/old_dominion_prices.csv')\n",
    "pg_csv = Path('Resources/stock_price_data/proctor_gamble_prices.csv')\n",
    "tesla_csv = Path('Resources/stock_price_data/tesla_prices.csv')\n",
    "verizon_csv = Path('Resources/stock_price_data/verizon_prices.csv')\n",
    "\n",
    "amzn_prices = pd.read_csv(amzn_csv, parse_dates=True, infer_datetime_format=True, index_col='Date')\n",
    "att_prices = pd.read_csv(att_csv, parse_dates=True, infer_datetime_format=True, index_col='Date')\n",
    "boa_prices = pd.read_csv(boa_csv, parse_dates=True, infer_datetime_format=True, index_col='Date')\n",
    "coke_prices = pd.read_csv(coke_csv, parse_dates=True, infer_datetime_format=True, index_col='Date')\n",
    "csx_prices = pd.read_csv(csx_csv, parse_dates=True, infer_datetime_format=True, index_col='Date')\n",
    "jpm_prices = pd.read_csv(jpm_csv, parse_dates=True, infer_datetime_format=True, index_col='Date')\n",
    "odfl_prices = pd.read_csv(odfl_csv, parse_dates=True, infer_datetime_format=True, index_col='Date')\n",
    "pg_prices = pd.read_csv(pg_csv, parse_dates=True, infer_datetime_format=True, index_col='Date')\n",
    "tesla_prices = pd.read_csv(tesla_csv, parse_dates=True, infer_datetime_format=True, index_col='Date')\n",
    "verizon_prices = pd.read_csv(verizon_csv, parse_dates=True, infer_datetime_format=True, index_col='Date')\n",
    "\n",
    "\n",
    "Path.cwd()\n",
    "#csx_prices.index\n",
    "amzn_prices.head()"
   ]
  },
  {
   "cell_type": "code",
   "execution_count": 3,
   "metadata": {},
   "outputs": [],
   "source": [
    "# Income Statement Data to DataFrames\n",
    "\n",
    "amzn_path = Path('Resources/income_statement_data/amzn_income_statement_quarter.csv')\n",
    "att_path = Path('Resources/income_statement_data/t_income_statement_quarter.csv')\n",
    "boa_path = Path('Resources/income_statement_data/bac_income_statement_annual.csv')\n",
    "coke_path = Path('Resources/income_statement_data/ko_income_statement_quarter.csv')\n",
    "csx_path = Path('Resources/income_statement_data/csx_income_statement_quarter.csv')\n",
    "jpm_path = Path('Resources/income_statement_data/jpm_income_statement_quarter.csv')\n",
    "odfl_path = Path('Resources/income_statement_data/odfl_income_statement_quarter.csv')\n",
    "pg_path = Path('Resources/income_statement_data/pg_income_statement_quarter.csv')\n",
    "tesla_path = Path('Resources/income_statement_data/tsla_income_statement_quarter.csv')\n",
    "verizon_path = Path('Resources/income_statement_data/vz_income_statement_quarter.csv')\n",
    "\n",
    "amzn_inc_stmnt = pd.read_csv(amzn_path, parse_dates=True, infer_datetime_format=True, index_col='date')\n",
    "att_inc_stmnt = pd.read_csv(att_path, parse_dates=True, infer_datetime_format=True, index_col='date')\n",
    "boa_inc_stmnt = pd.read_csv(boa_path, parse_dates=True, infer_datetime_format=True, index_col='date')\n",
    "coke_inc_stmnt = pd.read_csv(coke_path, parse_dates=True, infer_datetime_format=True, index_col='date')\n",
    "csx_inc_stmnt = pd.read_csv(csx_path, parse_dates=True, infer_datetime_format=True, index_col='date')\n",
    "jpm_inc_stmnt = pd.read_csv(jpm_path, parse_dates=True, infer_datetime_format=True, index_col='date')\n",
    "odfl_inc_stmnt = pd.read_csv(odfl_path, parse_dates=True, infer_datetime_format=True, index_col='date')\n",
    "pg_inc_stmnt = pd.read_csv(pg_path, parse_dates=True, infer_datetime_format=True, index_col='date')\n",
    "tesla_inc_stmnt = pd.read_csv(tesla_path, parse_dates=True, infer_datetime_format=True, index_col='date')\n",
    "vz_inc_stmnt = pd.read_csv(verizon_path, parse_dates=True, infer_datetime_format=True, index_col='date')\n",
    "\n"
   ]
  },
  {
   "cell_type": "code",
   "execution_count": 4,
   "metadata": {},
   "outputs": [],
   "source": [
    "# Convert index to datetime\n",
    "\n",
    "amzn_prices.index = pd.to_datetime(amzn_prices.index)\n",
    "att_prices.index = pd.to_datetime(att_prices.index)\n",
    "boa_prices.index = pd.to_datetime(boa_prices.index)\n",
    "coke_prices.index = pd.to_datetime(coke_prices.index)\n",
    "csx_prices.index = pd.to_datetime(csx_prices.index)\n",
    "jpm_prices.index = pd.to_datetime(jpm_prices.index)\n",
    "odfl_prices.index = pd.to_datetime(odfl_prices.index)\n",
    "pg_prices.index = pd.to_datetime(pg_prices.index)\n",
    "tesla_prices.index = pd.to_datetime(tesla_prices.index)\n",
    "verizon_prices.index = pd.to_datetime(verizon_prices.index)"
   ]
  },
  {
   "cell_type": "code",
   "execution_count": 5,
   "metadata": {},
   "outputs": [
    {
     "data": {
      "text/plain": [
       "Index(['2020-06-30', '2020-03-31', '2019-12-31', '2019-09-30', '2019-06-30',\n",
       "       '2019-03-31', '2018-12-31', '2018-09-30', '2018-06-30', '2018-03-31',\n",
       "       ...\n",
       "       '1993-06-30', '1993-03-31', '1992-12-31', '1992-09-30', '1992-06-30',\n",
       "       '1992-03-31', '1991-12-31', '1991-09-30', '1991-06-30', '1991-03-31'],\n",
       "      dtype='object', name='Date', length=118)"
      ]
     },
     "execution_count": 5,
     "metadata": {},
     "output_type": "execute_result"
    }
   ],
   "source": [
    "#pd.to_datetime(odfl_inc_stmnt)\n",
    "\n",
    "odfl_inc_stmnt.index[0][:10]\n",
    "range(len(odfl_inc_stmnt.index))\n",
    "odfl_index = [odfl_inc_stmnt.index[i][:10] for i in range(len(odfl_inc_stmnt.index))]\n",
    "odfl_index\n",
    "odfl_inc_stmnt['Date'] = odfl_index\n",
    "#odfl_inc_stmnt.head()\n",
    "odfl_indexed = odfl_inc_stmnt.set_index('Date')\n",
    "odfl_indexed.index"
   ]
  },
  {
   "cell_type": "code",
   "execution_count": 6,
   "metadata": {},
   "outputs": [
    {
     "data": {
      "text/plain": [
       "DatetimeIndex(['2020-06-30', '2020-03-31', '2019-12-31', '2019-09-30',\n",
       "               '2019-06-30', '2019-03-31', '2018-12-31', '2018-09-30',\n",
       "               '2018-06-30', '2018-03-31',\n",
       "               ...\n",
       "               '1993-06-30', '1993-03-31', '1992-12-31', '1992-09-30',\n",
       "               '1992-06-30', '1992-03-31', '1991-12-31', '1991-09-30',\n",
       "               '1991-06-30', '1991-03-31'],\n",
       "              dtype='datetime64[ns]', name='Date', length=118, freq=None)"
      ]
     },
     "execution_count": 6,
     "metadata": {},
     "output_type": "execute_result"
    }
   ],
   "source": [
    "odfl_indexed.index = pd.to_datetime(odfl_indexed.index, format='%Y-%m-%d')\n",
    "odfl_indexed.head()\n",
    "odfl_indexed.index"
   ]
  },
  {
   "cell_type": "code",
   "execution_count": 7,
   "metadata": {},
   "outputs": [],
   "source": [
    "# Create datetime index conversion function\n",
    "\n",
    "def convert_datetime(income_statement_df):\n",
    "    \n",
    "    dates = [income_statement_df.index[i][:10] for i in range(len(income_statement_df.index))]\n",
    "    income_statement_df['Date'] = dates\n",
    "    income_statement_df = income_statement_df.set_index('Date')\n",
    "    income_statement_df.index = pd.to_datetime(income_statement_df.index, format='%Y-%m-%d')\n",
    "    \n",
    "    return income_statement_df"
   ]
  },
  {
   "cell_type": "code",
   "execution_count": 8,
   "metadata": {},
   "outputs": [
    {
     "data": {
      "text/plain": [
       "DatetimeIndex(['2020-06-30', '2020-03-31', '2019-12-31', '2019-09-30',\n",
       "               '2019-06-30', '2019-03-31', '2018-12-31', '2018-09-30',\n",
       "               '2018-06-30', '2018-03-31',\n",
       "               ...\n",
       "               '1991-09-30', '1991-06-30', '1991-03-31', '1990-12-31',\n",
       "               '1990-09-30', '1990-06-30', '1990-03-31', '1989-12-31',\n",
       "               '1989-09-30', '1989-06-30'],\n",
       "              dtype='datetime64[ns]', name='Date', length=125, freq=None)"
      ]
     },
     "execution_count": 8,
     "metadata": {},
     "output_type": "execute_result"
    }
   ],
   "source": [
    "# Convert CSX Dates\n",
    "\n",
    "\n",
    "\n",
    "csx_indexed = convert_datetime(csx_inc_stmnt)\n",
    "odfl_indexed = convert_datetime(odfl_inc_stmnt)\n",
    "\n",
    "#dates = [csx_inc_stmnt.index[i][:10] for i in range(len(csx_inc_stmnt.index))]\n",
    "#dates\n",
    "\n",
    "csx_indexed.index"
   ]
  },
  {
   "cell_type": "code",
   "execution_count": null,
   "metadata": {},
   "outputs": [],
   "source": []
  }
 ],
 "metadata": {
  "kernelspec": {
   "display_name": "Python 3",
   "language": "python",
   "name": "python3"
  },
  "language_info": {
   "codemirror_mode": {
    "name": "ipython",
    "version": 3
   },
   "file_extension": ".py",
   "mimetype": "text/x-python",
   "name": "python",
   "nbconvert_exporter": "python",
   "pygments_lexer": "ipython3",
   "version": "3.7.7"
  }
 },
 "nbformat": 4,
 "nbformat_minor": 4
}
